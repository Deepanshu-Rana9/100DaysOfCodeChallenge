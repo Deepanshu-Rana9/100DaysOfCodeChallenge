{
 "cells": [
  {
   "cell_type": "markdown",
   "id": "0c8fe342-d070-445d-bcca-59d61af9cd60",
   "metadata": {},
   "source": [
    "# Basic Operations\n",
    "# How do you create a NumPy array of integers from 1 to 10?\n",
    "# How can you generate an array of 10 random numbers between 0 and 1?\n",
    "# How do you create a 3x3 identity matrix using NumPy?\n",
    "# How can you generate 50 values evenly spaced between 0 and 5?\n",
    "# How do you create a 5x5 matrix with values ranging from 1 to 25?\n"
   ]
  },
  {
   "cell_type": "code",
   "execution_count": 2,
   "id": "9ff29d5e-fc3c-4f8a-a85c-c9aa96899eec",
   "metadata": {},
   "outputs": [
    {
     "name": "stdout",
     "output_type": "stream",
     "text": [
      "[ 1  2  3  4  5  6  7  8  9 10]\n"
     ]
    }
   ],
   "source": [
    "import numpy as np\n",
    "arr1 = np.arange(1,11)\n",
    "print(arr1)"
   ]
  },
  {
   "cell_type": "code",
   "execution_count": 3,
   "id": "968f319e-ac70-4f0d-b1e1-fb1d52a6bc18",
   "metadata": {},
   "outputs": [
    {
     "name": "stdout",
     "output_type": "stream",
     "text": [
      "[[0.47689567]\n",
      " [0.14964351]\n",
      " [0.66243592]\n",
      " [0.4350804 ]\n",
      " [0.71814514]\n",
      " [0.74383042]\n",
      " [0.59634091]\n",
      " [0.20858811]\n",
      " [0.86722656]\n",
      " [0.14827202]]\n"
     ]
    }
   ],
   "source": [
    "import numpy as np\n",
    "arr2 = np.random.rand(10,1)\n",
    "print(arr2)"
   ]
  },
  {
   "cell_type": "code",
   "execution_count": 4,
   "id": "af49a383-aa85-4192-972d-898c711b9e27",
   "metadata": {},
   "outputs": [
    {
     "name": "stdout",
     "output_type": "stream",
     "text": [
      "[[1. 1. 1.]\n",
      " [1. 1. 1.]\n",
      " [1. 1. 1.]]\n"
     ]
    }
   ],
   "source": [
    "arr3 = np.ones(shape=(3,3))\n",
    "print(arr3)"
   ]
  },
  {
   "cell_type": "code",
   "execution_count": 5,
   "id": "22001f33-637d-4ee2-99c3-e00bdbad3b4c",
   "metadata": {},
   "outputs": [
    {
     "name": "stdout",
     "output_type": "stream",
     "text": [
      "[0.         0.10204082 0.20408163 0.30612245 0.40816327 0.51020408\n",
      " 0.6122449  0.71428571 0.81632653 0.91836735 1.02040816 1.12244898\n",
      " 1.2244898  1.32653061 1.42857143 1.53061224 1.63265306 1.73469388\n",
      " 1.83673469 1.93877551 2.04081633 2.14285714 2.24489796 2.34693878\n",
      " 2.44897959 2.55102041 2.65306122 2.75510204 2.85714286 2.95918367\n",
      " 3.06122449 3.16326531 3.26530612 3.36734694 3.46938776 3.57142857\n",
      " 3.67346939 3.7755102  3.87755102 3.97959184 4.08163265 4.18367347\n",
      " 4.28571429 4.3877551  4.48979592 4.59183673 4.69387755 4.79591837\n",
      " 4.89795918 5.        ]\n"
     ]
    }
   ],
   "source": [
    "arr4 = np.linspace(0,5,50)\n",
    "print(arr4)"
   ]
  },
  {
   "cell_type": "code",
   "execution_count": 6,
   "id": "e92769a9-9fa1-4ec2-ab55-df4e6b252151",
   "metadata": {},
   "outputs": [
    {
     "name": "stdout",
     "output_type": "stream",
     "text": [
      "[0.  0.1 0.2 0.3 0.4 0.5 0.6 0.7 0.8 0.9 1.  1.1 1.2 1.3 1.4 1.5 1.6 1.7\n",
      " 1.8 1.9 2.  2.1 2.2 2.3 2.4 2.5 2.6 2.7 2.8 2.9 3.  3.1 3.2 3.3 3.4 3.5\n",
      " 3.6 3.7 3.8 3.9 4.  4.1 4.2 4.3 4.4 4.5 4.6 4.7 4.8 4.9]\n"
     ]
    }
   ],
   "source": [
    "arr5 = np.arange(0,5,0.1)\n",
    "print(arr5)"
   ]
  },
  {
   "cell_type": "code",
   "execution_count": 7,
   "id": "965abd37-f652-46af-afd3-316ec3bb1a58",
   "metadata": {},
   "outputs": [
    {
     "name": "stdout",
     "output_type": "stream",
     "text": [
      "[ 1  2  3  4  5  6  7  8  9 10 11 12 13 14 15 16 17 18 19 20 21 22 23 24\n",
      " 25]\n",
      "[[ 1  2  3  4  5]\n",
      " [ 6  7  8  9 10]\n",
      " [11 12 13 14 15]\n",
      " [16 17 18 19 20]\n",
      " [21 22 23 24 25]]\n"
     ]
    }
   ],
   "source": [
    "arr6 = np.arange(1,26)\n",
    "print(arr6)\n",
    "arr6 = arr6.reshape(5,5)\n",
    "print(arr6)\n"
   ]
  },
  {
   "cell_type": "markdown",
   "id": "dd56235f-0552-43e3-b600-15c1224bb45a",
   "metadata": {},
   "source": [
    "# Array Manipulation\n",
    "# How do you reshape a 1D array into a 3x4 matrix?\n",
    "# How can you flatten a 2D array into a 1D array?\n",
    "# How do you concatenate two 1D arrays [1, 2, 3] and [4, 5, 6]?\n",
    "# How do you stack two 2D arrays vertically and horizontally?\n",
    "# How can you split an array into 3 equal parts?"
   ]
  },
  {
   "cell_type": "code",
   "execution_count": 9,
   "id": "f33bd45a-7d58-4a3f-accd-bfef34d4879f",
   "metadata": {},
   "outputs": [
    {
     "name": "stdout",
     "output_type": "stream",
     "text": [
      "[[ 1  2  3  4]\n",
      " [ 5  6  7  8]\n",
      " [ 9 10 11 12]]\n"
     ]
    }
   ],
   "source": [
    "arr7 = np.arange(1,13)\n",
    "arr7 = arr7.reshape(3,4)\n",
    "print(arr7)"
   ]
  },
  {
   "cell_type": "code",
   "execution_count": 10,
   "id": "7692abc8-0918-4255-af2f-e94dafbdccf4",
   "metadata": {},
   "outputs": [
    {
     "name": "stdout",
     "output_type": "stream",
     "text": [
      "[1 2 3 4 5 6]\n"
     ]
    }
   ],
   "source": [
    "arr8 = np.array([[1,2,3],[4,5,6]])\n",
    "arr9 = arr8.ravel()\n",
    "print(arr9)"
   ]
  },
  {
   "cell_type": "code",
   "execution_count": 11,
   "id": "19ddbde3-079a-4ce3-bf8d-6fbf6c0484f7",
   "metadata": {},
   "outputs": [
    {
     "name": "stdout",
     "output_type": "stream",
     "text": [
      "[1 2 3 4 5 6]\n"
     ]
    }
   ],
   "source": [
    "arr10 = np.array([1,2,3])\n",
    "arr11 = np.array([4,5,6])\n",
    "arr12 = np.concatenate((arr10,arr11))\n",
    "print(arr12)"
   ]
  },
  {
   "cell_type": "code",
   "execution_count": 12,
   "id": "585171f3-87e1-4bd0-8a6a-588acacebee6",
   "metadata": {},
   "outputs": [
    {
     "name": "stdout",
     "output_type": "stream",
     "text": [
      "[[1 2 3]\n",
      " [4 5 6]]\n"
     ]
    }
   ],
   "source": [
    "arr13 =np.array([1,2,3])\n",
    "arr14 =np.array([4,5,6])\n",
    "arr15 =np.vstack((arr13,arr14))\n",
    "print(arr15)"
   ]
  },
  {
   "cell_type": "code",
   "execution_count": 13,
   "id": "cc800ee3-d408-46b3-94a1-6a1b51355d27",
   "metadata": {},
   "outputs": [
    {
     "name": "stdout",
     "output_type": "stream",
     "text": [
      "[1 2 3 4 5 6]\n"
     ]
    }
   ],
   "source": [
    "arr13 =np.array([1,2,3])\n",
    "arr14 =np.array([4,5,6])\n",
    "arr15 =np.hstack((arr13,arr14))\n",
    "print(arr15)"
   ]
  },
  {
   "cell_type": "code",
   "execution_count": 14,
   "id": "e111b97f-c70a-49cc-9ca7-59ddd0a7b559",
   "metadata": {},
   "outputs": [
    {
     "name": "stdout",
     "output_type": "stream",
     "text": [
      "[array([1, 2, 3]), array([4, 5, 6]), array([7, 8, 9])]\n"
     ]
    }
   ],
   "source": [
    "arr16 = np.array([1,2,3,4,5,6,7,8,9])\n",
    "arr16 = np.split(arr16,3)\n",
    "print(arr16)"
   ]
  },
  {
   "cell_type": "markdown",
   "id": "ae431ddd-1c8e-4c73-b8b6-ab15c1d2744d",
   "metadata": {},
   "source": [
    "# Indexing & Slicing\n",
    "# How do you extract the second column of a 3x3 matrix?\n",
    "# How can you get all elements greater than 15 in a NumPy array?\n",
    "# How do you replace all even numbers in an array with -1?\n",
    "# How can you reverse a NumPy array without using a loop?\n",
    "# How do you extract the diagonal elements of a square matrix?"
   ]
  },
  {
   "cell_type": "code",
   "execution_count": 16,
   "id": "e213fe36-df35-4120-9997-8d367701be7b",
   "metadata": {},
   "outputs": [
    {
     "name": "stdout",
     "output_type": "stream",
     "text": [
      "[[1 2 3]\n",
      " [4 5 6]\n",
      " [7 8 9]]\n",
      "[2 5 8]\n"
     ]
    }
   ],
   "source": [
    "import numpy as np\n",
    "arr17= np.arange(1,10).reshape(3,3)\n",
    "print(arr17)\n",
    "arr18=np.array((arr17[0][1],arr17[1][1],arr17[2][1]))\n",
    "print(arr18)"
   ]
  },
  {
   "cell_type": "code",
   "execution_count": 17,
   "id": "ed68cb67-8170-4770-9b1c-5b50bbdf54cd",
   "metadata": {},
   "outputs": [
    {
     "name": "stdout",
     "output_type": "stream",
     "text": [
      "[12 15 17 18 19 20 26 27]\n",
      "[17 18 19 20 26 27]\n",
      "[17 18 19 20 26 27]\n"
     ]
    }
   ],
   "source": [
    "arr19=np.array([12,15,17,18,19,20,26,27])\n",
    "print(arr19)\n",
    "result=np.extract(arr19>15,arr19)\n",
    "print(result)\n",
    "result=arr19[arr19>15]\n",
    "print(result)"
   ]
  },
  {
   "cell_type": "code",
   "execution_count": 18,
   "id": "bb0fb0a4-161d-4750-9ea6-3f7a997d47c8",
   "metadata": {},
   "outputs": [
    {
     "name": "stdout",
     "output_type": "stream",
     "text": [
      "[ 1 -1  3 -1  5 -1  7 -1  9]\n",
      "[ 1 -1  3 -1  5 -1  7 -1  9]\n"
     ]
    }
   ],
   "source": [
    "arr20 = np.array([1,2,3,4,5,6,7,8,9])\n",
    "result = []\n",
    "for i in arr20:\n",
    "    if i%2!=0:\n",
    "        result.append(i)\n",
    "    else:\n",
    "        result.append(-1)\n",
    "\n",
    "print(np.array(result))\n",
    "\n",
    "# second method\n",
    "arr20[arr20%2==0]=-1\n",
    "print(arr20)        "
   ]
  },
  {
   "cell_type": "code",
   "execution_count": 19,
   "id": "378b8a25-2be0-4965-b4aa-ccddaad1f1ab",
   "metadata": {},
   "outputs": [
    {
     "name": "stdout",
     "output_type": "stream",
     "text": [
      "[9 8 7 6 5 4 3 2 1]\n"
     ]
    }
   ],
   "source": [
    "arr20 = np.array([1,2,3,4,5,6,7,8,9])\n",
    "print(arr20[::-1])"
   ]
  },
  {
   "cell_type": "code",
   "execution_count": 20,
   "id": "9c180d4d-2403-43d5-bbe0-3c57919de9fa",
   "metadata": {},
   "outputs": [
    {
     "name": "stdout",
     "output_type": "stream",
     "text": [
      "[[1 2 3]\n",
      " [4 5 6]\n",
      " [7 8 9]]\n",
      "[1 5 9]\n",
      "[1 5 9]\n"
     ]
    }
   ],
   "source": [
    "arr17= np.arange(1,10).reshape(3,3)\n",
    "print(arr17)\n",
    "print(np.array((arr17[0][0],arr17[1][1],arr17[2][2])))\n",
    "\n",
    "# second method\n",
    "result = np.diag(arr17)\n",
    "print(result)"
   ]
  },
  {
   "cell_type": "markdown",
   "id": "85df99f1-45af-4d77-ad4e-03d8fd22f7fa",
   "metadata": {},
   "source": [
    "# Mathematical & Statistical Operations\n",
    "# Find the sum, mean, standard deviation, and variance of an array.\n",
    "# Compute the dot product of two matrices:\n",
    "# Normalize an array so that values range between 0 and 1.\n",
    "# Find the row-wise maximum and column-wise minimum of a 2D array.\n",
    "# Generate an array of 10 random numbers and sort them in ascending order.\n"
   ]
  },
  {
   "cell_type": "code",
   "execution_count": 22,
   "id": "7d47e52f-7a99-4586-a5a0-3ea26c03fbc9",
   "metadata": {},
   "outputs": [
    {
     "name": "stdout",
     "output_type": "stream",
     "text": [
      "5.0\n",
      "45\n",
      "2.581988897471611\n",
      "6.666666666666667\n"
     ]
    }
   ],
   "source": [
    "arr20 = np.array([1,2,3,4,5,6,7,8,9])\n",
    "mean = np.mean(arr20)\n",
    "print(mean)\n",
    "sum1 = np.sum(arr20)\n",
    "print(sum1)\n",
    "std = np.std(arr20)\n",
    "print(std)\n",
    "var = np.var(arr20)\n",
    "print(var)"
   ]
  },
  {
   "cell_type": "code",
   "execution_count": 23,
   "id": "ee4af294-b73f-4907-8521-e1548432b533",
   "metadata": {},
   "outputs": [
    {
     "name": "stdout",
     "output_type": "stream",
     "text": [
      "[[1 2 3]\n",
      " [4 5 6]\n",
      " [7 8 9]]\n",
      "[[11 12 13]\n",
      " [14 15 16]\n",
      " [17 18 19]]\n",
      "[[ 90  96 102]\n",
      " [216 231 246]\n",
      " [342 366 390]]\n",
      "[[ 90  96 102]\n",
      " [216 231 246]\n",
      " [342 366 390]]\n"
     ]
    }
   ],
   "source": [
    "arr0 = np.arange(1,10).reshape(3,3)\n",
    "arr1 = np.arange(11,20).reshape(3,3)\n",
    "print(arr0)\n",
    "print(arr1)\n",
    "result = arr0.dot(arr1)\n",
    "print(result)\n",
    "\n",
    "# second method\n",
    "dot_product = arr0 @ arr1\n",
    "print(dot_product)"
   ]
  },
  {
   "cell_type": "code",
   "execution_count": 24,
   "id": "65b5772a-2331-4f3d-93e6-5a3d89e1b61d",
   "metadata": {},
   "outputs": [
    {
     "name": "stdout",
     "output_type": "stream",
     "text": [
      "[1 2 3 4 5 6 7 8 9]\n",
      "[0.    0.125 0.25  0.375 0.5   0.625 0.75  0.875 1.   ]\n"
     ]
    }
   ],
   "source": [
    "a = np.array([1,2,3,4,5,6,7,8,9])\n",
    "print(a)\n",
    "normal = (a-a.min())/(a.max() - a.min())\n",
    "print(normal)"
   ]
  },
  {
   "cell_type": "code",
   "execution_count": 25,
   "id": "738c86cd-2952-41ce-a9a1-be3352127032",
   "metadata": {},
   "outputs": [
    {
     "name": "stdout",
     "output_type": "stream",
     "text": [
      "[[1 2 3 4]\n",
      " [5 6 7 8]]\n",
      "[4 8]\n",
      "[1 2 3 4]\n"
     ]
    }
   ],
   "source": [
    "b = np.arange(1,9).reshape(2,4)\n",
    "print(b)\n",
    "print(np.max(b,axis=1))\n",
    "print(np.min(b,axis=0))"
   ]
  },
  {
   "cell_type": "code",
   "execution_count": 26,
   "id": "35754420-624a-43c6-b409-d8abe27b22b6",
   "metadata": {},
   "outputs": [
    {
     "name": "stdout",
     "output_type": "stream",
     "text": [
      "[25 49 23 53 20  8 55 34 10 20]\n",
      "[ 8 10 20 20 23 25 34 49 53 55]\n",
      "1\n"
     ]
    }
   ],
   "source": [
    "r = np.random.randint(1,100,size=(10))\n",
    "print(r)\n",
    "print(np.sort(r))\n",
    "print(r.ndim)"
   ]
  },
  {
   "cell_type": "markdown",
   "id": "bc791623-b95c-4d45-86cb-5c5c510ebf4f",
   "metadata": {},
   "source": [
    "# Boolean Indexing & Filtering\n",
    "# How do you extract all numbers divisible by 3 from an array?\n",
    "# How can you replace all numbers greater than 50 with 0 in an array?\n",
    "# How do you count the number of non-zero elements in an array?\n",
    "# How do you find and return the indices where elements in an array are negative?\n",
    "# How can you clip values in a matrix so that all elements greater than 10 are set to 10?"
   ]
  },
  {
   "cell_type": "code",
   "execution_count": 28,
   "id": "5f03e66d-d6bb-409e-8cce-f9d239ecedd2",
   "metadata": {},
   "outputs": [
    {
     "name": "stdout",
     "output_type": "stream",
     "text": [
      "[96 88 66 21 27 18 58 71 94 49]\n",
      "[96 66 21 27 18]\n"
     ]
    }
   ],
   "source": [
    "a = np.random.randint(1,100,size=(10))\n",
    "print(a)\n",
    "result = a[a%3==0]\n",
    "print(result)\n"
   ]
  },
  {
   "cell_type": "code",
   "execution_count": 29,
   "id": "8468f132-e3b8-40d2-8f87-9a2f1c8b2505",
   "metadata": {},
   "outputs": [
    {
     "name": "stdout",
     "output_type": "stream",
     "text": [
      "[80 94 38 80 84 73 50  1 50  5]\n",
      "[ 0  0 38  0  0  0 50  1 50  5]\n"
     ]
    }
   ],
   "source": [
    "a = np.random.randint(1,100,size=(10))\n",
    "print(a)\n",
    "a[a>50]=0\n",
    "print(a)"
   ]
  },
  {
   "cell_type": "code",
   "execution_count": 30,
   "id": "d45ca475-ac15-4ec1-9152-60007568d4cd",
   "metadata": {},
   "outputs": [
    {
     "name": "stdout",
     "output_type": "stream",
     "text": [
      "[8 4 3 1 5 4 1 6 3 2]\n",
      "10\n"
     ]
    }
   ],
   "source": [
    "a = np.random.randint(0,9,size=(10))\n",
    "print(a)\n",
    "print(np.count_nonzero(a))"
   ]
  },
  {
   "cell_type": "code",
   "execution_count": 31,
   "id": "b2eb15be-488e-4da3-8c4a-5f3b854618d2",
   "metadata": {},
   "outputs": [
    {
     "name": "stdout",
     "output_type": "stream",
     "text": [
      "(array([4, 5, 6, 7], dtype=int64),)\n"
     ]
    }
   ],
   "source": [
    "a = np.array([1,2,3,4,-1,-2,-3,-4])\n",
    "a= np.where(a<0)\n",
    "print(a)"
   ]
  },
  {
   "cell_type": "code",
   "execution_count": 32,
   "id": "5387b118-3101-492d-bbbd-6a0dbb98a515",
   "metadata": {},
   "outputs": [
    {
     "name": "stdout",
     "output_type": "stream",
     "text": [
      "[[ 5  6  7]\n",
      " [ 8  9 10]\n",
      " [11 12 13]]\n",
      "[[ 5  6  7]\n",
      " [ 8  9 10]\n",
      " [10 10 10]]\n"
     ]
    }
   ],
   "source": [
    "a = np.arange(5,14).reshape(3,3)\n",
    "print(a)\n",
    "a[a>10]=10\n",
    "print(a)"
   ]
  },
  {
   "cell_type": "markdown",
   "id": "b25a18c4-8f5d-4e6f-a5bf-6bf919880717",
   "metadata": {},
   "source": [
    "# Advanced Topics\n",
    "# How do you find the inverse of a matrix using NumPy?\n",
    "# How can you compute the eigenvalues and eigenvectors of a matrix?\n",
    "# How do you solve a system of linear equations using NumPy?\n",
    "# How can you generate a random 4x4 matrix and replace all values below the mean with 0?\n",
    "# How do you compute the pairwise Euclidean distance between rows of a matrix?\n"
   ]
  },
  {
   "cell_type": "code",
   "execution_count": 34,
   "id": "a567f0e9-e3f3-4ccd-a7d8-ba44183bc8da",
   "metadata": {},
   "outputs": [
    {
     "name": "stdout",
     "output_type": "stream",
     "text": [
      "[[1 2 3]\n",
      " [4 5 6]\n",
      " [7 8 9]]\n",
      "-9.51619735392994e-16\n",
      "[[ 3.15251974e+15 -6.30503948e+15  3.15251974e+15]\n",
      " [-6.30503948e+15  1.26100790e+16 -6.30503948e+15]\n",
      " [ 3.15251974e+15 -6.30503948e+15  3.15251974e+15]]\n"
     ]
    }
   ],
   "source": [
    "import numpy as np\n",
    "a= np.arange(1,10).reshape(3,3)\n",
    "print(a)\n",
    "print(np.linalg.det(a))\n",
    "result = np.linalg.inv(a)\n",
    "print(result)"
   ]
  },
  {
   "cell_type": "code",
   "execution_count": 35,
   "id": "c8c5b088-9f29-4392-bf2b-a695a6cfc2d7",
   "metadata": {},
   "outputs": [
    {
     "name": "stdout",
     "output_type": "stream",
     "text": [
      "[[1 2 3]\n",
      " [4 5 6]\n",
      " [7 8 9]]\n",
      "[ 1.61168440e+01 -1.11684397e+00 -3.38433605e-16]\n",
      "[[-0.23197069 -0.78583024  0.40824829]\n",
      " [-0.52532209 -0.08675134 -0.81649658]\n",
      " [-0.8186735   0.61232756  0.40824829]]\n"
     ]
    }
   ],
   "source": [
    "a= np.arange(1,10).reshape(3,3)\n",
    "print(a)\n",
    "eigen_values,eigen_vectors = np.linalg.eig(a)\n",
    "print(eigen_values)\n",
    "print(eigen_vectors)"
   ]
  },
  {
   "cell_type": "code",
   "execution_count": 36,
   "id": "d89a4d9f-1f59-4920-a85c-698e9d2ba674",
   "metadata": {},
   "outputs": [
    {
     "name": "stdout",
     "output_type": "stream",
     "text": [
      "[-6.   6.5]\n"
     ]
    }
   ],
   "source": [
    "a = np.array([[1,2]\n",
    "              ,[3,4]])\n",
    "b = np.array([7,8])\n",
    "result = np.linalg.solve(a,b)\n",
    "print(result)"
   ]
  },
  {
   "cell_type": "code",
   "execution_count": 37,
   "id": "9c18e2a8-9a9d-47a1-9b8a-db152861b952",
   "metadata": {},
   "outputs": [
    {
     "name": "stdout",
     "output_type": "stream",
     "text": [
      "[[ 1  2  3  4]\n",
      " [ 5  6  7  8]\n",
      " [ 9 10 11 12]\n",
      " [13 14 15 16]]\n",
      "8.5\n",
      "[[ 0  0  0  0]\n",
      " [ 0  0  0  0]\n",
      " [ 9 10 11 12]\n",
      " [13 14 15 16]]\n"
     ]
    }
   ],
   "source": [
    "a = np.arange(1,17).reshape(4,4)\n",
    "print(a)\n",
    "mean = np.mean(a)\n",
    "print(mean)\n",
    "a[a<mean] = 0\n",
    "print(a)"
   ]
  },
  {
   "cell_type": "code",
   "execution_count": 38,
   "id": "4134dc32-80ec-4440-b763-5ece6c4d7fc3",
   "metadata": {},
   "outputs": [
    {
     "name": "stdout",
     "output_type": "stream",
     "text": [
      "[[0.         2.82842712 5.65685425]\n",
      " [2.82842712 0.         2.82842712]\n",
      " [5.65685425 2.82842712 0.        ]]\n"
     ]
    }
   ],
   "source": [
    "import numpy as np\n",
    "c = np.array([[1, 2],[3, 4],[5, 6]])\n",
    "dists = np.linalg.norm(c[:, np.newaxis] - c, axis=2)\n",
    "print(dists)\n"
   ]
  },
  {
   "cell_type": "raw",
   "id": "3dfe999e-573e-4057-a3f0-f1095bbdc9ac",
   "metadata": {},
   "source": [
    "A retail company wants to segment its customers based on their annual spending in two categories: Groceries and Electronics. They have data for 5 # # customers:\n",
    "\n",
    "Customer\tGroceries ($)\tElectronics ($)\n",
    "A\t            500         \t1500\n",
    "B\t            700            \t1200\n",
    "C\t            400\t             900\n",
    "D\t            900\t            1800\n",
    "E\t            650\t            1600\n",
    "Compute the pairwise Euclidean distance between rows of a matrix?\n",
    "which describes the nature of the customer's spending."
   ]
  },
  {
   "cell_type": "code",
   "execution_count": 39,
   "id": "46b7c197-3e0d-40e1-ba8b-9eb09ed66a0e",
   "metadata": {},
   "outputs": [
    {
     "name": "stdout",
     "output_type": "stream",
     "text": [
      "[[ 500 1500]\n",
      " [ 700 1200]\n",
      " [ 400  900]\n",
      " [ 900 1800]\n",
      " [ 650 1600]]\n"
     ]
    }
   ],
   "source": [
    "a = np.array([[500,1500],[700,1200],[400,900],[900,1800],[650,1600]])\n",
    "print(a)"
   ]
  },
  {
   "cell_type": "code",
   "execution_count": 40,
   "id": "18696f06-3ed6-4cc4-8dd8-648905abeb7e",
   "metadata": {},
   "outputs": [
    {
     "name": "stdout",
     "output_type": "stream",
     "text": [
      "[[   0.    360.56  608.28  500.    180.28]\n",
      " [ 360.56    0.    424.26  632.46  403.11]\n",
      " [ 608.28  424.26    0.   1029.56  743.3 ]\n",
      " [ 500.    632.46 1029.56    0.    320.16]\n",
      " [ 180.28  403.11  743.3   320.16    0.  ]]\n"
     ]
    }
   ],
   "source": [
    "diff = a[:,np.newaxis,:] - a[np.newaxis,:,:]\n",
    "distance = np.sqrt(np.sum(diff**2,axis=-1))\n",
    "print(distance.round(2))"
   ]
  },
  {
   "cell_type": "raw",
   "id": "3528c7fc-f4f3-47c6-a49b-18d54fe1b6a6",
   "metadata": {},
   "source": [
    "Write a NumPy code to identify transactions that are 2 standard deviations above the mean and print those suspicious transactions."
   ]
  },
  {
   "cell_type": "code",
   "execution_count": 41,
   "id": "aa84653d-f47d-4da6-a873-daa58fc81a5e",
   "metadata": {},
   "outputs": [
    {
     "name": "stdout",
     "output_type": "stream",
     "text": [
      "Suspicious Transactions:\n",
      "[[500000      2]]\n"
     ]
    }
   ],
   "source": [
    "import numpy as np\n",
    "transactions = np.array([\n",
    "    [50, 14],\n",
    "    [200, 16],\n",
    "    [500000, 2],\n",
    "    [30, 10], \n",
    "    [700, 3],\n",
    "    [100, 18]\n",
    "])\n",
    "mean_amount = np.mean(transactions[:, 0])\n",
    "std_amount = np.std(transactions[:, 0]) \n",
    "suspicious = transactions[:, 0] > (mean_amount + 2 * std_amount)\n",
    "\n",
    "print(\"Suspicious Transactions:\")\n",
    "print(transactions[suspicious])\n"
   ]
  },
  {
   "cell_type": "markdown",
   "id": "95bd0fc8-282e-4e99-ae1b-f68f95d4eb8b",
   "metadata": {},
   "source": [
    "# 1️⃣Create a 5x5 matrix with values from 1 to 25\n",
    "Write a NumPy program to create a 5x5 matrix filled with values from 1 to 25."
   ]
  },
  {
   "cell_type": "code",
   "execution_count": 43,
   "id": "c3e7e74b-0326-4e6e-8e85-eca05a35d3bb",
   "metadata": {},
   "outputs": [
    {
     "name": "stdout",
     "output_type": "stream",
     "text": [
      "[[ 1  2  3  4  5]\n",
      " [ 6  7  8  9 10]\n",
      " [11 12 13 14 15]\n",
      " [16 17 18 19 20]\n",
      " [21 22 23 24 25]]\n"
     ]
    }
   ],
   "source": [
    "import numpy as np\n",
    "arr = np.arange(1,26).reshape(5,5)\n",
    "print(arr)"
   ]
  },
  {
   "cell_type": "markdown",
   "id": "53daa5ab-2e3d-4fef-a410-c36ee8956028",
   "metadata": {},
   "source": [
    "# 2️⃣ Replace all even numbers in a NumPy array with -1"
   ]
  },
  {
   "cell_type": "code",
   "execution_count": 45,
   "id": "338e8bbe-cb03-4aed-861b-dfef7dae9d2c",
   "metadata": {},
   "outputs": [
    {
     "name": "stdout",
     "output_type": "stream",
     "text": [
      "[[ 1 -1  3 -1  5]\n",
      " [-1  7 -1  9 -1]\n",
      " [11 -1 13 -1 15]\n",
      " [-1 17 -1 19 -1]\n",
      " [21 -1 23 -1 25]]\n"
     ]
    }
   ],
   "source": [
    "arr[arr%2==0]=-1\n",
    "print(arr)"
   ]
  },
  {
   "cell_type": "markdown",
   "id": "f2c89d30-cb6a-4545-866c-2d9eb0a3d9d7",
   "metadata": {},
   "source": [
    "#  Find the mean and standard deviation of a NumPy array\n",
    "Create a 1D NumPy array of size 10 with random values between 10 and 100. Compute and print its mean and standard deviation.\n"
   ]
  },
  {
   "cell_type": "code",
   "execution_count": 47,
   "id": "728d69c7-c1cc-425a-b6b4-8d543a90afaa",
   "metadata": {},
   "outputs": [
    {
     "name": "stdout",
     "output_type": "stream",
     "text": [
      "[39 59 24 22 42 20 62 41 33 41]\n",
      "38.3\n",
      "13.609188072769072\n"
     ]
    }
   ],
   "source": [
    "arr1 = np.random.randint(10,100,10)\n",
    "print(arr1)\n",
    "print(arr1.mean())\n",
    "print(arr1.std())"
   ]
  },
  {
   "cell_type": "markdown",
   "id": "763a0f4b-58f7-4577-828a-fe86ed79cd0d",
   "metadata": {},
   "source": [
    "# 4️⃣ Stack two NumPy arrays vertically and horizontally"
   ]
  },
  {
   "cell_type": "code",
   "execution_count": 49,
   "id": "fb24a8e0-1e9f-4bf2-8dca-f8ec571c9385",
   "metadata": {},
   "outputs": [
    {
     "name": "stdout",
     "output_type": "stream",
     "text": [
      "[[1 2]\n",
      " [3 4]\n",
      " [5 6]\n",
      " [7 8]]\n",
      "[[1 2 5 6]\n",
      " [3 4 7 8]]\n"
     ]
    }
   ],
   "source": [
    "a = np.array([[1, 2], [3, 4]])\n",
    "b = np.array([[5, 6], [7, 8]])\n",
    "result = np.vstack((a,b))\n",
    "print(result)\n",
    "result2 = np.hstack((a,b))\n",
    "print(result2)"
   ]
  },
  {
   "cell_type": "markdown",
   "id": "20f50aff-b2f7-46ea-950d-39acc6062d2e",
   "metadata": {},
   "source": [
    "# 5️⃣ Find the index of the maximum value in a NumPy array"
   ]
  },
  {
   "cell_type": "code",
   "execution_count": 51,
   "id": "74395ceb-5afd-4b62-8660-519dc64b9a62",
   "metadata": {},
   "outputs": [
    {
     "name": "stdout",
     "output_type": "stream",
     "text": [
      "4\n"
     ]
    }
   ],
   "source": [
    "arr = np.array([4, 18, 25, 9, 30, 12])\n",
    "result = np.argmax(arr)\n",
    "print(result)"
   ]
  },
  {
   "cell_type": "markdown",
   "id": "57e56ab6-5b75-43d7-9933-918b81628284",
   "metadata": {},
   "source": [
    "# 1️⃣ Create a NumPy array of shape (3,3) filled with random floating-point numbers\n",
    "Generate a 3×3 matrix where each element is a random float between 0 and 1."
   ]
  },
  {
   "cell_type": "code",
   "execution_count": 53,
   "id": "706bab1d-c142-4a7b-9f73-6db06e2c543e",
   "metadata": {},
   "outputs": [
    {
     "name": "stdout",
     "output_type": "stream",
     "text": [
      "[[0.05327919 0.17074748 0.9991093 ]\n",
      " [0.28347006 0.01849354 0.30401347]\n",
      " [0.8733191  0.36181611 0.80667515]]\n"
     ]
    }
   ],
   "source": [
    "arr0 = np.random.rand(3,3)\n",
    "print(arr0)"
   ]
  },
  {
   "cell_type": "markdown",
   "id": "055e1337-d60f-48c4-a44d-b2b5b710cc76",
   "metadata": {},
   "source": [
    "#  Find the sum of all elements in a NumPy array"
   ]
  },
  {
   "cell_type": "code",
   "execution_count": 55,
   "id": "9ebd18dc-d014-4882-9229-559099c8aaaf",
   "metadata": {},
   "outputs": [
    {
     "name": "stdout",
     "output_type": "stream",
     "text": [
      "[[ 9  3 17 19]\n",
      " [ 3 15 18  9]\n",
      " [ 4  2 16  7]\n",
      " [ 6 14  9 12]]\n",
      "[[ 9  3 17 19]\n",
      " [ 3 15 18  9]\n",
      " [ 4  2 16  7]\n",
      " [ 6 14  9 12]]\n"
     ]
    }
   ],
   "source": [
    "arr4 = np.random.randint(1,20,16).reshape(4,4)\n",
    "print(arr4)\n",
    "print(arr4.sum(()))"
   ]
  },
  {
   "cell_type": "markdown",
   "id": "11cbcaae-5be0-433f-8a76-55a79659ac9e",
   "metadata": {},
   "source": [
    "# 4️⃣ Normalize a NumPy array (scale values between 0 and 1)\n",
    "\n"
   ]
  },
  {
   "cell_type": "code",
   "execution_count": 57,
   "id": "a6787b0b-823d-41e2-b943-45fde66e3273",
   "metadata": {},
   "outputs": [
    {
     "name": "stdout",
     "output_type": "stream",
     "text": [
      "[0.0, 0.25, 0.5, 0.75, 1.0]\n"
     ]
    }
   ],
   "source": [
    "arr = np.array([5, 15, 25, 35, 45])\n",
    "result = []\n",
    "maxi = arr.max()\n",
    "mini = arr.min()\n",
    "for x in arr:\n",
    "    normal = (x-mini)/(maxi-mini)\n",
    "    result.append(normal)\n",
    "print(result)"
   ]
  },
  {
   "cell_type": "code",
   "execution_count": 58,
   "id": "3f4fab8c-1dc0-4a30-ab54-a37b67328b2e",
   "metadata": {},
   "outputs": [
    {
     "name": "stdout",
     "output_type": "stream",
     "text": [
      "[1 2 3 4]\n",
      "[1 2 3 4]\n"
     ]
    }
   ],
   "source": [
    "arr = np.array([1, 2, 2, 3, 3, 3, 4, 4, 4, 4])\n",
    "unique_values, counts = np.unique(arr, return_counts=True)\n",
    "print(unique_values)\n",
    "print(counts)"
   ]
  },
  {
   "cell_type": "markdown",
   "id": "b7e96054-d3eb-41f7-9031-8ec6718c37ec",
   "metadata": {},
   "source": [
    "# 1. Stock Market Data Analysis (Moving Average Calculation)\n",
    "# Problem: Compute a 7-day moving average of stock prices."
   ]
  },
  {
   "cell_type": "code",
   "execution_count": 60,
   "id": "1f1e5419-2ffa-4d41-a1c6-2076830fdf41",
   "metadata": {},
   "outputs": [
    {
     "name": "stdout",
     "output_type": "stream",
     "text": [
      "[104.71 106.43 108.29 110.71]\n"
     ]
    }
   ],
   "source": [
    "import numpy as np\n",
    "stock_prices = np.array([100, 102, 101, 105, 107, 110, 108, 112, 115, 118])\n",
    "window_size = 7\n",
    "\n",
    "moving_avg = np.convolve(stock_prices, np.ones(window_size) / window_size, mode='valid')\n",
    "print(moving_avg.round(2))\n"
   ]
  },
  {
   "cell_type": "markdown",
   "id": "9ec37dd5-85bb-4898-8c69-2dfcd7a54f12",
   "metadata": {},
   "source": [
    "# 2. Weather Data Analysis (Temperature Anomalies Detection)\n",
    "# Problem: Given daily temperature readings for a month, detect anomalies (days with temperatures significantly different from the mean)."
   ]
  },
  {
   "cell_type": "code",
   "execution_count": 62,
   "id": "e9a50c21-6861-479b-a9a3-9418fd6968f9",
   "metadata": {},
   "outputs": [
    {
     "name": "stdout",
     "output_type": "stream",
     "text": [
      "Temperature anomalies: [66 74]\n"
     ]
    }
   ],
   "source": [
    "import numpy as np\n",
    "temperatures = np.array([30, 32, 45, 35, 28, 33, 31, 40, 27, 26, 34, 66, 37, 25, 39, 38, 24, 30, 31, 29, 32, 33, 35, 30, 28, 37, 26, 40, 74, 29])\n",
    "\n",
    "mean_temp = np.mean(temperatures)\n",
    "std_temp = np.std(temperatures)\n",
    "threshold = 2 * std_temp\n",
    "\n",
    "anomalies = temperatures[np.abs(temperatures - mean_temp) > threshold]\n",
    "print(\"Temperature anomalies:\", anomalies)\n"
   ]
  },
  {
   "cell_type": "markdown",
   "id": "0e5634c1-c513-4840-a645-e0f5c27985a8",
   "metadata": {},
   "source": [
    "# 1️⃣ Matrix Rotation (90 Degrees Clockwise) 🔄\n",
    "# 📌 Problem: Given a NxN matrix, rotate it 90 degrees clockwise using only NumPy operations."
   ]
  },
  {
   "cell_type": "code",
   "execution_count": 64,
   "id": "4842d414-3a39-47a2-96f7-8e087a3c35d8",
   "metadata": {},
   "outputs": [
    {
     "name": "stdout",
     "output_type": "stream",
     "text": [
      "Original Matrix:\n",
      " [[1 2 3]\n",
      " [4 5 6]\n",
      " [7 8 9]]\n",
      "Rotated Matrix:\n",
      " [[3 6 9]\n",
      " [2 5 8]\n",
      " [1 4 7]]\n"
     ]
    }
   ],
   "source": [
    "import numpy as np\n",
    "matrix = np.array([[1, 2, 3], \n",
    "                   [4, 5, 6], \n",
    "                   [7, 8, 9]])\n",
    "\n",
    "rotated_matrix = np.transpose(matrix)[::-1]\n",
    "\n",
    "print(\"Original Matrix:\\n\", matrix)\n",
    "print(\"Rotated Matrix:\\n\", rotated_matrix)\n"
   ]
  },
  {
   "cell_type": "markdown",
   "id": "79f67f1e-d870-46b6-b54c-997b5a87bd9b",
   "metadata": {},
   "source": [
    "# 2️⃣ Distance Between Two Points 📍\n",
    "# 📌 Problem: Given two points in a 3D space, calculate the Euclidean distance between them."
   ]
  },
  {
   "cell_type": "code",
   "execution_count": 66,
   "id": "d4c5f28e-5065-4998-90a0-282264b9abb6",
   "metadata": {},
   "outputs": [
    {
     "name": "stdout",
     "output_type": "stream",
     "text": [
      "EUCLIDEN DISTANC IS 6.4031242374328485\n"
     ]
    }
   ],
   "source": [
    "import numpy as np\n",
    "\n",
    "point_A = np.array([3, 4, 5])\n",
    "point_B = np.array([7, 1, 9])\n",
    "\n",
    "distance = np.linalg.norm(point_A - point_B)\n",
    "print(f\"EUCLIDEN DISTANC IS {distance}\")\n"
   ]
  },
  {
   "cell_type": "markdown",
   "id": "094a79cd-38d2-487d-ad2c-8ae356f0b555",
   "metadata": {},
   "source": [
    "# 1️⃣ Flight Delay Analysis (Airline Industry) ✈️\n",
    "# 📌 Problem: An airline wants to analyze flight delays. Given an array of flight delay times (in minutes), calculate:\n",
    "# 💠The average delay\n",
    "# 💠The percentage of flights delayed more than 30 minutes"
   ]
  },
  {
   "cell_type": "code",
   "execution_count": 68,
   "id": "d1c4e2bb-d8d6-45e4-8399-bca22bcd19eb",
   "metadata": {},
   "outputs": [
    {
     "name": "stdout",
     "output_type": "stream",
     "text": [
      "Average Delay: 22.31 minutes\n",
      "Percentage of Flights Delayed More Than 30 Minutes: 30.76923076923077 %\n"
     ]
    }
   ],
   "source": [
    "import numpy as np\n",
    "flight_record = np.array([15, -5, 25, 45, 40, 60, -20, 15, 50, 0, 10, 30, 25])\n",
    "\n",
    "average_delay = np.mean(flight_record)\n",
    "delay_flights = np.sum(flight_record > 30) / len(flight_record) * 100\n",
    "\n",
    "print(f\"Average Delay: {average_delay.round(2)} minutes\")\n",
    "print(f\"Percentage of Flights Delayed More Than 30 Minutes: {delay_flights} %\")"
   ]
  },
  {
   "cell_type": "markdown",
   "id": "5d6016a6-e66b-4e6c-80ca-a3067e9b784e",
   "metadata": {},
   "source": [
    "# 2️⃣ Earthquake Magnitude Analysis (Seismology) 🌍\n",
    "# 📌 Problem: Seismologists want to analyze earthquake data. Given an array of earthquake magnitudes, determine:\n",
    "# 💠The strongest earthquake recorded\n",
    "# 💠The number of earthquakes above 5.0 magnitude (considered significant)"
   ]
  },
  {
   "cell_type": "code",
   "execution_count": 70,
   "id": "1e49f745-ed98-43a2-b734-12c4b0b5ef87",
   "metadata": {},
   "outputs": [
    {
     "name": "stdout",
     "output_type": "stream",
     "text": [
      "Strongest Earthquake Magnitude: 7.1\n",
      "Number of Significant Earthquakes: 4\n"
     ]
    }
   ],
   "source": [
    "import numpy as np\n",
    "earthquake_mag = np.array([2.5, 3.2, 4.8, 5.1, 6.3, 2.9, 5.0, 7.1, 4.2, 2.4, 5.7])\n",
    "\n",
    "strongest_earthquake = np.max(earthquake_mag)\n",
    "sig_quakes = np.sum(earthquake_mag > 5.0)\n",
    "\n",
    "print(f\"Strongest Earthquake Magnitude: {strongest_earthquake}\")\n",
    "print(f\"Number of Significant Earthquakes: {sig_quakes}\")"
   ]
  },
  {
   "cell_type": "markdown",
   "id": "7dc97b39-47fa-49c4-bfef-807b9c9270fa",
   "metadata": {},
   "source": [
    "# 1️⃣ Movie Ratings Analysis (Entertainment Industry) 🎬\n",
    "# 📌 Problem: A streaming platform wants to analyze user ratings of movies. Given a NumPy array of movie ratings (scale: 1 to 5), calculate:\n",
    "# ✅ The average rating\n",
    "# ✅ The percentage of 5-star ratings\n",
    "# ✅ The most common rating"
   ]
  },
  {
   "cell_type": "code",
   "execution_count": 72,
   "id": "c420e504-858c-4c0a-9eab-440cd197b063",
   "metadata": {},
   "outputs": [
    {
     "name": "stdout",
     "output_type": "stream",
     "text": [
      "[5 1 3 2 4 5 3 2 4 3 5 2 3 3 2 2 1 1 5 4]\n",
      "Average Movie Rating: 3.0 ⭐\n",
      "Percentage of 5 ⭐ Ratings: 20.0 %\n",
      "Most Common Rating: 2 ⭐\n"
     ]
    }
   ],
   "source": [
    "import numpy as np\n",
    "\n",
    "ratings = np.random.randint(1,6,20)\n",
    "print(ratings)\n",
    "avg_rating = np.mean(ratings)\n",
    "five_star_percentage = np.sum(ratings == 5) / len(ratings) * 100\n",
    "common_rating = np.bincount(ratings).argmax()\n",
    "\n",
    "print(f\"Average Movie Rating: {avg_rating} ⭐\")\n",
    "print(f\"Percentage of 5 ⭐ Ratings: {five_star_percentage} %\")\n",
    "print(f\"Most Common Rating: {common_rating} ⭐\")\n"
   ]
  },
  {
   "cell_type": "markdown",
   "id": "4e5f0378-c94c-49a9-be13-3be1829dbe9c",
   "metadata": {},
   "source": [
    "# 2️⃣ Financial Portfolio Risk Analysis (Investment) 💰\n",
    "# 📌 Problem: A financial analyst wants to measure the volatility (risk) of a stock portfolio. Given daily percentage returns of stocks, calculate:\n",
    "# ✅ The average daily return\n",
    "# ✅ The portfolio risk (standard deviation of returns)"
   ]
  },
  {
   "cell_type": "code",
   "execution_count": 74,
   "id": "bfaf20ba-3d6b-4ae8-9ca5-a87dde7e9f50",
   "metadata": {},
   "outputs": [
    {
     "name": "stdout",
     "output_type": "stream",
     "text": [
      "Average Daily Return: 1.2136363636363636 %\n",
      "Portfolio Risk (Volatility): 1.891859463967913 %\n"
     ]
    }
   ],
   "source": [
    "import numpy as np\n",
    "values = np.array([-1,-1.5,2,4,-0.5,2.5,1.5,-1.15,1,3,3.5])\n",
    "\n",
    "avg_return = np.mean(values)\n",
    "risk = np.std(values)\n",
    "\n",
    "print(f\"Average Daily Return: {avg_return} %\")\n",
    "print(f\"Portfolio Risk (Volatility): {risk} %\")\n"
   ]
  },
  {
   "cell_type": "markdown",
   "id": "0afcbe3f-8ecb-4654-a5f8-1e02e64377a1",
   "metadata": {},
   "source": [
    "# 1️⃣ DNA Sequence Analysis (Bioinformatics) 🧬\n",
    "# 📌 Problem: Scientists analyze DNA sequences to study genetic patterns. Given a DNA sequence represented as a NumPy character array, count the occurrences of each nucleotide:\n",
    "\n",
    "# ✅ Find the frequency of A (Adenine), T (Thymine), C (Cytosine), and G (Guanine)."
   ]
  },
  {
   "cell_type": "code",
   "execution_count": 76,
   "id": "de495233-48ea-4a91-b490-071129b8384d",
   "metadata": {},
   "outputs": [
    {
     "name": "stdout",
     "output_type": "stream",
     "text": [
      "Nucleotide Frequencies: {'A': 9, 'C': 7, 'G': 9, 'T': 8}\n"
     ]
    }
   ],
   "source": [
    "import numpy as np\n",
    "dna_data = np.array(list(\"ATGCGTACGTACGTAATTGCCAAGGGTCCATGA\"))\n",
    "\n",
    "nuc, counts = np.unique(dna_data, return_counts=True)\n",
    "nuc_counts = dict(zip(nuc, counts))\n",
    "\n",
    "print(f\"Nucleotide Frequencies: {nuc_counts}\")"
   ]
  },
  {
   "cell_type": "markdown",
   "id": "2b1c5b3f-3129-4bb6-90d6-1fd174d8c37e",
   "metadata": {},
   "source": [
    "# 2️⃣ Warehouse Inventory Optimization (Supply Chain) 📦\n",
    "# 📌 Problem: A warehouse manager wants to optimize storage by rearranging items based on their weights. Given an array of item weights (kg), sort them in descending order and get the top 3 heaviest items.\n",
    "\n",
    "# ✅ Sort the weights in descending order and extract the top 3 items."
   ]
  },
  {
   "cell_type": "code",
   "execution_count": 78,
   "id": "647f9c75-09db-47bb-ad97-39971d40b230",
   "metadata": {},
   "outputs": [
    {
     "name": "stdout",
     "output_type": "stream",
     "text": [
      "Sorted Weights in descending: [25.7  22.8  19.2  15.6   9.99  7.8   6.8   3.6   2.2   0.5 ]\n",
      "Top 3 Heaviest Items: [25.7 22.8 19.2]\n"
     ]
    }
   ],
   "source": [
    "import numpy as np\n",
    "\n",
    "weights = np.array([15.6,7.8,2.2,19.2,0.5,22.8,25.7,3.6,9.99,6.8])\n",
    "sort_weights = np.sort(weights)[::-1]\n",
    "top_3_heavy = sort_weights[:3]\n",
    "\n",
    "print(f\"Sorted Weights in descending: {sort_weights}\")\n",
    "print(f\"Top 3 Heaviest Items: {top_3_heavy}\")"
   ]
  },
  {
   "cell_type": "markdown",
   "id": "3f904036-fec1-4c67-9ab4-df49ececae2a",
   "metadata": {},
   "source": [
    "# 1️⃣ Customer Spending Pattern Analysis (Retail) 🛒\n",
    "# 📌 Problem: A retail store tracks customer spending. Given an array of customer purchase amounts, identify customers who spent above the 90th percentile, marking them as VIP customers.\n",
    "\n",
    "# ✅ Find the spending threshold for VIP customers and extract their indices."
   ]
  },
  {
   "cell_type": "code",
   "execution_count": 80,
   "id": "32468c58-6cee-4e63-b270-8f2e6eda0d69",
   "metadata": {},
   "outputs": [
    {
     "name": "stdout",
     "output_type": "stream",
     "text": [
      "VIP Customer Indices: [3 9]\n",
      "VIP Spending Values: [700 987]\n"
     ]
    }
   ],
   "source": [
    "import numpy as np\n",
    "\n",
    "spending = np.array([120,300,600,700,300,270,490,200,234,987,654,100])\n",
    "vip_threshold = np.percentile(spending, 90)\n",
    "vip = np.where(spending > vip_threshold)[0]\n",
    "\n",
    "print(f\"VIP Customer Indices: {vip}\")\n",
    "print(f\"VIP Spending Values: {spending[vip]}\")\n"
   ]
  },
  {
   "cell_type": "markdown",
   "id": "91f0666f-fa99-4d1f-a865-f188320a0091",
   "metadata": {},
   "source": [
    "# 2️⃣ Smart Energy Consumption Analysis (IoT) ⚡\n",
    "# 📌 Problem: A smart meter records hourly electricity consumption for a household. Given a NumPy array of hourly readings, calculate the cumulative energy consumption over time to monitor usage trends.\n",
    "\n",
    "# ✅ Compute cumulative energy consumption."
   ]
  },
  {
   "cell_type": "code",
   "execution_count": 82,
   "id": "7b9aef24-2d7e-4620-8533-5c3993bc8251",
   "metadata": {},
   "outputs": [
    {
     "name": "stdout",
     "output_type": "stream",
     "text": [
      "Hourly Energy Usage: [2.3 5.6 1.3 9.9 1.  1.9 5.8]\n",
      "Cumulative Energy Consumption: [ 2.3  7.9  9.2 19.1 20.1 22.  27.8]\n"
     ]
    }
   ],
   "source": [
    "import numpy as np\n",
    "\n",
    "energy_usage = np.array([2.3,5.6,1.3,9.9,1.0,1.9,5.8])\n",
    "cumulative_usage = np.cumsum(energy_usage)\n",
    "\n",
    "print(f\"Hourly Energy Usage: {energy_usage}\")\n",
    "print(f\"Cumulative Energy Consumption: {cumulative_usage}\")"
   ]
  },
  {
   "cell_type": "markdown",
   "id": "9a43d428-be07-48a9-8493-3e0840755636",
   "metadata": {},
   "source": [
    "# 1️⃣ Online Learning Platform – Quiz Performance Analysis 🎓\n",
    "# 📌 Problem: An e-learning platform tracks student quiz scores. Given an array of student scores, classify them into performance levels:\n",
    "\n",
    "# Low (<50%)\n",
    "\n",
    "# Average (50-75%)\n",
    "\n",
    "# High (>75%)\n",
    "\n",
    "# ✅ Categorize student scores using NumPy’s vectorized operations."
   ]
  },
  {
   "cell_type": "code",
   "execution_count": 84,
   "id": "26d7980d-2242-450a-993d-352509ed9ad1",
   "metadata": {},
   "outputs": [
    {
     "name": "stdout",
     "output_type": "stream",
     "text": [
      "Student Performance Levels: ['Average' 'Low' 'High' 'High' 'Low' 'Low' 'Average' 'Average' 'Average'\n",
      " 'Low' 'Low' 'Low' 'High' 'Low' 'Low' 'Average' 'Average' 'High' 'High']\n"
     ]
    }
   ],
   "source": [
    "import numpy as np\n",
    "scores = np.array([50,45,76,87,43,23,56,75,67,43,24,23,98,10,44,55,66,77,88])\n",
    "\n",
    "conditions = [scores < 50,(scores >= 50) & (scores <= 75),scores > 75]\n",
    "categories = [\"Low\", \"Average\", \"High\"]\n",
    "performance_levels = np.select(conditions, categories)\n",
    "\n",
    "print(f\"Student Performance Levels: {performance_levels}\")"
   ]
  },
  {
   "cell_type": "markdown",
   "id": "3e6b53f6-610d-40d7-85db-903876a5f29f",
   "metadata": {},
   "source": [
    "# 2️⃣ Inventory Restocking Optimization (Retail) 🏪\n",
    "# 📌 Problem: A supermarket tracks daily stock levels of a popular product. Given an array of daily stock counts, identify days when stock fell below the restocking threshold (20 units) to trigger automatic replenishment.\n",
    "\n",
    "# ✅ Find days that require restocking."
   ]
  },
  {
   "cell_type": "code",
   "execution_count": 86,
   "id": "58785211-6823-4cfe-96fd-5685abecdff3",
   "metadata": {},
   "outputs": [
    {
     "name": "stdout",
     "output_type": "stream",
     "text": [
      "Days to Restock: [ 4  5  9 10]\n",
      "Stock Levels on These Days: [10 15 10 20]\n"
     ]
    }
   ],
   "source": [
    "import numpy as np\n",
    "stock_level = np.array([90,60,30,50,10,15,70,33,22,10,20])\n",
    "\n",
    "threshold = 20\n",
    "restock_days = np.where(stock_level <= threshold)[0]\n",
    "\n",
    "print(f\"Days to Restock: {restock_days}\")\n",
    "print(f\"Stock Levels on These Days: {stock_level[restock_days]}\")"
   ]
  },
  {
   "cell_type": "markdown",
   "id": "9c7adbd0-84f2-4d2f-9bb1-35565f049e3b",
   "metadata": {},
   "source": [
    "# 1️⃣ Customer Churn Risk Prediction (Telecom) 📞\n",
    "# 📌 Problem: A telecom company tracks monthly call durations (in minutes) for its customers. Customers with a drop of more than 30% in call duration compared to the previous month might be at risk of churning (leaving the service).\n",
    "\n",
    "# ✅ Identify customers with a 30%+ drop in call usage compared to the previous month."
   ]
  },
  {
   "cell_type": "code",
   "execution_count": 88,
   "id": "406426e0-e8b5-4c39-8456-f06cf703e8d1",
   "metadata": {},
   "outputs": [
    {
     "name": "stdout",
     "output_type": "stream",
     "text": [
      "Months with High Churn Risk: [9]\n",
      "Percentage Drop in These Months: [-50.]\n"
     ]
    }
   ],
   "source": [
    "import numpy as np\n",
    "\n",
    "call_time = np.array([250, 240, 230, 200, 140, 100, 220, 180, 160, 80])\n",
    "percent_change = np.diff(call_time) / call_time[:-1] * 100\n",
    "churn_risk_months = np.where(percent_change < -30)[0] + 1\n",
    "\n",
    "print(f\"Months with High Churn Risk: {churn_risk_months}\")\n",
    "print(f\"Percentage Drop in These Months: {percent_change[churn_risk_months - 1]}\")"
   ]
  },
  {
   "cell_type": "markdown",
   "id": "1a962eb8-532a-4e1c-b68e-9eeabf9c3591",
   "metadata": {},
   "source": [
    "# 2️⃣ E-Commerce Product Rating Normalization 🛒\n",
    "# 📌 Problem: An e-commerce website collects product ratings from different sources, but they use different scales (e.g., some are out of 5 stars, others out of 10). Given an array of ratings with mixed scales, normalize all ratings to a 0-1 scale for comparison.\n",
    "\n",
    "# ✅ Convert all ratings to a 0-1 scale."
   ]
  },
  {
   "cell_type": "code",
   "execution_count": 90,
   "id": "f7ed6f52-41e5-45af-a59f-04471eec3c9d",
   "metadata": {},
   "outputs": [
    {
     "name": "stdout",
     "output_type": "stream",
     "text": [
      "Normalized Ratings (0-1 scale): [0.9  0.76 0.8  0.72 0.98 0.95 0.4  1.   1.   0.6 ]\n"
     ]
    }
   ],
   "source": [
    "import numpy as np\n",
    "\n",
    "ratings = np.array([4.5, 3.8, 8, 7.2, 4.9, 9.5, 2, 5, 10, 6])\n",
    "normalized_ratings = np.where(ratings > 5, ratings / 10, ratings / 5)\n",
    "\n",
    "print(f\"Normalized Ratings (0-1 scale): {normalized_ratings}\")"
   ]
  },
  {
   "cell_type": "markdown",
   "id": "a6dda05b-63a1-4111-9ce3-7f204fd5fe53",
   "metadata": {},
   "source": [
    "# 1️⃣ Hospital Patient Monitoring – Detecting Critical Heart Rates ❤️\n",
    "# 📌 Problem: A hospital tracks the heart rates (BPM) of patients in the ICU. A patient is in critical condition if their heart rate is below 50 BPM or above 120 BPM.\n",
    "\n",
    "# ✅ Identify patients with critical heart rates."
   ]
  },
  {
   "cell_type": "code",
   "execution_count": 92,
   "id": "6a646406-6577-42c6-a309-635d1556595a",
   "metadata": {},
   "outputs": [
    {
     "name": "stdout",
     "output_type": "stream",
     "text": [
      "Patients in Critical Condition (Index): [ 4 10 11]\n",
      "Heart Rates of These Patients: [ 20 122 150]\n"
     ]
    }
   ],
   "source": [
    "import numpy as np\n",
    "\n",
    "heart_rates = np.array([89,67,98,110,20,59,69,96,79,97,122,150])\n",
    "critical = np.where((heart_rates < 50) | (heart_rates > 120))[0]\n",
    "\n",
    "print(f\"Patients in Critical Condition (Index): {critical}\")\n",
    "print(f\"Heart Rates of These Patients: {heart_rates[critical]}\")\n"
   ]
  },
  {
   "cell_type": "markdown",
   "id": "73a35bae-07a3-4d36-836f-3bd3c59b10cc",
   "metadata": {},
   "source": [
    "# Movie Recommendation System – Finding Similar Users 🎬\n",
    "# 📌 Problem: A streaming platform wants to recommend movies based on user rating similarity. Given a matrix where rows represent users and columns represent movies, find users with the most similar preferences using cosine similarity.\n",
    "\n",
    "# ✅ Find the user who is most similar to a given user based on movie ratings."
   ]
  },
  {
   "cell_type": "code",
   "execution_count": 94,
   "id": "c904485f-2b27-4559-bcc5-b44d06c81f00",
   "metadata": {},
   "outputs": [
    {
     "name": "stdout",
     "output_type": "stream",
     "text": [
      "Most similar user to User 0: 3\n",
      "Similarity Scores: [1.         0.92727273 0.63636364 0.98306147]\n"
     ]
    }
   ],
   "source": [
    "import numpy as np\n",
    "\n",
    "ratings = np.array([\n",
    "    [5,4,3,2,1],\n",
    "    [4,5,2,1,3], \n",
    "    [1,2,3,4,5], \n",
    "    [5,5,2,2,1]  \n",
    "])\n",
    "user_idx = 0\n",
    "similarities = np.dot(ratings, ratings[user_idx]) / (np.linalg.norm(ratings, axis=1) * np.linalg.norm(ratings[user_idx]))\n",
    "most_similar_user = np.argsort(-similarities)[1]\n",
    "\n",
    "print(f\"Most similar user to User 0: {most_similar_user}\")\n",
    "print(f\"Similarity Scores: {similarities}\")\n"
   ]
  },
  {
   "cell_type": "code",
   "execution_count": null,
   "id": "de083b5e-0dbf-4e60-b103-19f449f654f5",
   "metadata": {},
   "outputs": [],
   "source": []
  }
 ],
 "metadata": {
  "kernelspec": {
   "display_name": "Python [conda env:base] *",
   "language": "python",
   "name": "conda-base-py"
  },
  "language_info": {
   "codemirror_mode": {
    "name": "ipython",
    "version": 3
   },
   "file_extension": ".py",
   "mimetype": "text/x-python",
   "name": "python",
   "nbconvert_exporter": "python",
   "pygments_lexer": "ipython3",
   "version": "3.12.7"
  }
 },
 "nbformat": 4,
 "nbformat_minor": 5
}
